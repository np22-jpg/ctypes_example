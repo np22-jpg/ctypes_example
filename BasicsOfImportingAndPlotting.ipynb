{
 "cells": [
  {
   "cell_type": "markdown",
   "id": "2108d028",
   "metadata": {},
   "source": [
    "# **Calling shared C Library with CTypes**\n",
    "\"Python3 integrates a library called `ctypes` by default. Through this library, values can be easily passed between Python3 and C, natively. To compile, follow `README.md`. Then, run the snippet below. External python modules (in this case, `makehagrid.py`) does not need to be compiled because python is a 100% interpreted langauge.\""
   ]
  },
  {
   "cell_type": "code",
   "execution_count": 14,
   "id": "61ae4c80",
   "metadata": {},
   "outputs": [
    {
     "ename": "ImportError",
     "evalue": "attempted relative import with no known parent package",
     "output_type": "error",
     "traceback": [
      "\u001b[0;31m---------------------------------------------------------------------------\u001b[0m",
      "\u001b[0;31mImportError\u001b[0m                               Traceback (most recent call last)",
      "\u001b[1;32m/home/cosmos/ctypes_example/BasicsOfImportingAndPlotting.ipynb Cell 2\u001b[0m in \u001b[0;36m<cell line: 1>\u001b[0;34m()\u001b[0m\n\u001b[0;32m----> <a href='vscode-notebook-cell:/home/cosmos/ctypes_example/BasicsOfImportingAndPlotting.ipynb#ch0000001?line=0'>1</a>\u001b[0m \u001b[39mfrom\u001b[39;00m \u001b[39m.\u001b[39;00m\u001b[39mlib\u001b[39;00m \u001b[39mimport\u001b[39;00m makehagrid \u001b[39mas\u001b[39;00m haggy\n\u001b[1;32m      <a href='vscode-notebook-cell:/home/cosmos/ctypes_example/BasicsOfImportingAndPlotting.ipynb#ch0000001?line=2'>3</a>\u001b[0m haggy\u001b[39m.\u001b[39mhagrid(\u001b[39m10000\u001b[39m,\u001b[39m20\u001b[39m,\u001b[39m.1\u001b[39m,\u001b[39m1\u001b[39m)\n",
      "\u001b[0;31mImportError\u001b[0m: attempted relative import with no known parent package"
     ]
    }
   ],
   "source": [
    "import lib.makehagrid as haggy\n",
    "\n",
    "haggy.hagrid(10000,20,.1,1)"
   ]
  },
  {
   "cell_type": "markdown",
   "id": "2756b5e6-4fd3-4b0b-9054-2cc9fbc8b563",
   "metadata": {},
   "source": [
    "# **Importing Files and Basic Plotting**\n",
    "\n",
    "You can treat this program as a magic box at first if you like, but I will describe what is going on as well"
   ]
  },
  {
   "cell_type": "code",
   "execution_count": 1,
   "id": "3cb87abf",
   "metadata": {},
   "outputs": [],
   "source": [
    "# imports important packages similar to \"#include\" in C\n",
    "# this has useful data structures like arrays which will be discussed more later\n",
    "import numpy as np\n",
    "from matplotlib import pyplot as plt  # this is for plotting nicely\n",
    "\n",
    "# This will import the data we exported from C\n",
    "# in the place of \"output\" you should use your own filename\n",
    "# you can ask python to import data from a file in specific ways,\n",
    "# but python is smart so I will let it do it however it likes for simple files\n",
    "# trajectory = np.loadtxt(\"output\")\n",
    "trajectory = np.loadtxt(\"output\")\n"
   ]
  },
  {
   "cell_type": "code",
   "execution_count": null,
   "id": "59080b80",
   "metadata": {},
   "outputs": [],
   "source": [
    "# since we don't know how this was imported, I will just check by asking the program to tell me the dimensions of trajectory\n",
    "print(\"number of dimensions: \", trajectory.ndim)\n",
    "print(\"shape: \", trajectory.shape)\n"
   ]
  },
  {
   "cell_type": "code",
   "execution_count": null,
   "id": "6d644afd",
   "metadata": {},
   "outputs": [],
   "source": [
    "# Now we now how trajectory is shaped, so we can plot the trajectory!\n",
    "# If the axes come out inverted, you can always switch the contents in the plot function\n",
    "plt.plot(trajectory[:, 0], trajectory[:, 1])\n"
   ]
  },
  {
   "cell_type": "markdown",
   "id": "c91defd4",
   "metadata": {},
   "source": [
    "This looks about right, but the plot is missing a lot of important details.\n",
    "Plots should always contain axis labels with proper units!!"
   ]
  },
  {
   "cell_type": "code",
   "execution_count": null,
   "id": "1b0a82f4",
   "metadata": {},
   "outputs": [],
   "source": [
    "plt.plot(trajectory[:, 0], trajectory[:, 1])\n",
    "plt.xlabel(\"time (s)\")\n",
    "plt.ylabel(\"height (m)\")\n"
   ]
  },
  {
   "cell_type": "markdown",
   "id": "d79df838",
   "metadata": {},
   "source": [
    "I picked some units even though this was a simulation which was inherenetly unitless.\n",
    "\n",
    "If we were plotting multiple trajectories on one image, a legend might be necessary."
   ]
  },
  {
   "cell_type": "code",
   "execution_count": null,
   "id": "916d705e",
   "metadata": {},
   "outputs": [],
   "source": [
    "plt.plot(trajectory[:, 0], trajectory[:, 1],\n",
    "         color='purple', label=\"trajectory1\")\n",
    "plt.xlabel(\"time (s)\")\n",
    "plt.ylabel(\"height (m)\")\n",
    "plt.legend(loc='lower left')\n"
   ]
  },
  {
   "cell_type": "markdown",
   "id": "92bf3a70-adc8-479d-80a9-3480ea790634",
   "metadata": {},
   "source": [
    "# **Now it is your turn, copy and paste the above plotting code and customize the plots**\n",
    "Using google, find the commands to change the line color, font size, add data point markers, etc. Play with the settings as much as you like."
   ]
  },
  {
   "cell_type": "code",
   "execution_count": null,
   "id": "0657e4b6-8caf-4a5e-babb-93c8d15db302",
   "metadata": {},
   "outputs": [],
   "source": [
    "# Data generated from molecular_dynamics-lab-v2.c\n",
    "plt.plot(trajectory[:, 0], trajectory[:, 1], color='orange', label=\"epic line\")\n",
    "plt.xlabel(\"Bruce is\")\n",
    "plt.ylabel(\"a little special\")\n",
    "plt.legend(loc='lower left')\n"
   ]
  },
  {
   "cell_type": "code",
   "execution_count": null,
   "id": "8fb25c63",
   "metadata": {},
   "outputs": [],
   "source": []
  }
 ],
 "metadata": {
  "kernelspec": {
   "display_name": "Python 3.10.4 64-bit",
   "language": "python",
   "name": "python3"
  },
  "language_info": {
   "codemirror_mode": {
    "name": "ipython",
    "version": 3
   },
   "file_extension": ".py",
   "mimetype": "text/x-python",
   "name": "python",
   "nbconvert_exporter": "python",
   "pygments_lexer": "ipython3",
   "version": "3.10.4"
  },
  "toc-showmarkdowntxt": true,
  "toc-showtags": false,
  "vscode": {
   "interpreter": {
    "hash": "916dbcbb3f70747c44a77c7bcd40155683ae19c65e1c03b4aa3499c5328201f1"
   }
  }
 },
 "nbformat": 4,
 "nbformat_minor": 5
}
